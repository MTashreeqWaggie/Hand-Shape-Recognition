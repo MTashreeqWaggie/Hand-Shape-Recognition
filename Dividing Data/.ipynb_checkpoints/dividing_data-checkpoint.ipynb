{
 "cells": [
  {
   "cell_type": "markdown",
   "metadata": {},
   "source": [
    "# Dividing of Data"
   ]
  },
  {
   "cell_type": "markdown",
   "metadata": {},
   "source": [
    "## Abstract\n",
    "Below is the code used to divide the data set into `Training`, `Cross-Validation(CV)` and `Testing` portions. The data is split according to subjects(`Users` = `subjects`, this data set contains 14 user data sets. 0 to 14 without `User ID 3`).\n",
    "\n",
    "This enable us to determine whther our system only works for the users in the training set or if its able to generalize to new unseen users(which is the ideal case)."
   ]
  },
  {
   "cell_type": "markdown",
   "metadata": {},
   "source": [
    "## Libraries\n",
    "\n",
    "`import pandas as pd`- Access the Pandas Library. It takes data from files such as CSV or TSV and creates a Python object with rows and columns other known as a DataFrame.\n",
    "\n",
    "`import numpy as np` - NumPy’s main object is the homogeneous multidimensional array. It is a table of elements (usually numbers), all of the same type, indexed by a tuple of positive integers\n",
    "\n",
    "`import matplotlib.pyplot as plt` - Matplotlib.pyplot is a collection of command style functions that make matplotlib work like MATLAB. Each pyplot function makes some change to a figure, e.g., creates a figure, creates a plotting area in a figure, plots some lines in a plotting area, decorates the plot with labels."
   ]
  },
  {
   "cell_type": "code",
   "execution_count": 1,
   "metadata": {},
   "outputs": [],
   "source": [
    "import pandas as pd\n",
    "import numpy as np\n",
    "import matplotlib.pyplot as plt\n",
    "%matplotlib inline"
   ]
  },
  {
   "cell_type": "markdown",
   "metadata": {},
   "source": [
    "## Reading in the files \"Posture_new\"\n",
    "\n",
    "`pd.read_csv()` reads a comma-separated values(csv) file into DataFrame."
   ]
  },
  {
   "cell_type": "code",
   "execution_count": 2,
   "metadata": {},
   "outputs": [],
   "source": [
    "final_data = pd.read_csv(\"Posture_new.csv\")"
   ]
  },
  {
   "cell_type": "markdown",
   "metadata": {},
   "source": [
    "`.head()` will display data in `Posture_new.csv` to check if it is indead the correct data that has been read in."
   ]
  },
  {
   "cell_type": "code",
   "execution_count": 3,
   "metadata": {},
   "outputs": [
    {
     "data": {
      "text/html": [
       "<div>\n",
       "<style scoped>\n",
       "    .dataframe tbody tr th:only-of-type {\n",
       "        vertical-align: middle;\n",
       "    }\n",
       "\n",
       "    .dataframe tbody tr th {\n",
       "        vertical-align: top;\n",
       "    }\n",
       "\n",
       "    .dataframe thead th {\n",
       "        text-align: right;\n",
       "    }\n",
       "</style>\n",
       "<table border=\"1\" class=\"dataframe\">\n",
       "  <thead>\n",
       "    <tr style=\"text-align: right;\">\n",
       "      <th></th>\n",
       "      <th>User</th>\n",
       "      <th>X0</th>\n",
       "      <th>Y0</th>\n",
       "      <th>Z0</th>\n",
       "      <th>X1</th>\n",
       "      <th>Y1</th>\n",
       "      <th>Z1</th>\n",
       "      <th>X2</th>\n",
       "      <th>Y2</th>\n",
       "      <th>Z2</th>\n",
       "      <th>X3</th>\n",
       "      <th>Y3</th>\n",
       "      <th>Z3</th>\n",
       "      <th>X4</th>\n",
       "      <th>Y4</th>\n",
       "      <th>Z4</th>\n",
       "      <th>Class</th>\n",
       "    </tr>\n",
       "  </thead>\n",
       "  <tbody>\n",
       "    <tr>\n",
       "      <th>0</th>\n",
       "      <td>0</td>\n",
       "      <td>54.263880</td>\n",
       "      <td>71.466776</td>\n",
       "      <td>-64.807709</td>\n",
       "      <td>76.895635</td>\n",
       "      <td>42.462500</td>\n",
       "      <td>-72.780545</td>\n",
       "      <td>36.621229</td>\n",
       "      <td>81.680557</td>\n",
       "      <td>-52.919272</td>\n",
       "      <td>85.232264</td>\n",
       "      <td>67.749219</td>\n",
       "      <td>-73.684130</td>\n",
       "      <td>59.188576</td>\n",
       "      <td>10.678936</td>\n",
       "      <td>-71.297781</td>\n",
       "      <td>1</td>\n",
       "    </tr>\n",
       "    <tr>\n",
       "      <th>1</th>\n",
       "      <td>0</td>\n",
       "      <td>56.527558</td>\n",
       "      <td>72.266609</td>\n",
       "      <td>-61.935252</td>\n",
       "      <td>39.135978</td>\n",
       "      <td>82.538530</td>\n",
       "      <td>-49.596509</td>\n",
       "      <td>79.223743</td>\n",
       "      <td>43.254091</td>\n",
       "      <td>-69.982489</td>\n",
       "      <td>87.450873</td>\n",
       "      <td>68.400808</td>\n",
       "      <td>-70.703991</td>\n",
       "      <td>61.587452</td>\n",
       "      <td>11.779919</td>\n",
       "      <td>-68.827418</td>\n",
       "      <td>1</td>\n",
       "    </tr>\n",
       "    <tr>\n",
       "      <th>2</th>\n",
       "      <td>0</td>\n",
       "      <td>55.849928</td>\n",
       "      <td>72.469064</td>\n",
       "      <td>-62.562788</td>\n",
       "      <td>37.988804</td>\n",
       "      <td>82.631347</td>\n",
       "      <td>-50.606259</td>\n",
       "      <td>78.451526</td>\n",
       "      <td>43.567403</td>\n",
       "      <td>-70.658489</td>\n",
       "      <td>86.835388</td>\n",
       "      <td>68.907925</td>\n",
       "      <td>-71.138344</td>\n",
       "      <td>61.686427</td>\n",
       "      <td>11.793440</td>\n",
       "      <td>-68.889316</td>\n",
       "      <td>1</td>\n",
       "    </tr>\n",
       "    <tr>\n",
       "      <th>3</th>\n",
       "      <td>0</td>\n",
       "      <td>55.329647</td>\n",
       "      <td>71.707275</td>\n",
       "      <td>-63.688956</td>\n",
       "      <td>36.561863</td>\n",
       "      <td>81.868749</td>\n",
       "      <td>-52.752784</td>\n",
       "      <td>86.320630</td>\n",
       "      <td>68.214645</td>\n",
       "      <td>-72.228461</td>\n",
       "      <td>61.596157</td>\n",
       "      <td>11.250648</td>\n",
       "      <td>-68.956425</td>\n",
       "      <td>77.387225</td>\n",
       "      <td>42.717833</td>\n",
       "      <td>-72.015146</td>\n",
       "      <td>1</td>\n",
       "    </tr>\n",
       "    <tr>\n",
       "      <th>4</th>\n",
       "      <td>0</td>\n",
       "      <td>55.142401</td>\n",
       "      <td>71.435607</td>\n",
       "      <td>-64.177303</td>\n",
       "      <td>36.175818</td>\n",
       "      <td>81.556874</td>\n",
       "      <td>-53.475747</td>\n",
       "      <td>76.986143</td>\n",
       "      <td>42.426849</td>\n",
       "      <td>-72.574743</td>\n",
       "      <td>86.368748</td>\n",
       "      <td>67.901260</td>\n",
       "      <td>-72.444650</td>\n",
       "      <td>61.275402</td>\n",
       "      <td>10.841109</td>\n",
       "      <td>-69.279906</td>\n",
       "      <td>1</td>\n",
       "    </tr>\n",
       "  </tbody>\n",
       "</table>\n",
       "</div>"
      ],
      "text/plain": [
       "   User         X0         Y0         Z0         X1         Y1         Z1  \\\n",
       "0     0  54.263880  71.466776 -64.807709  76.895635  42.462500 -72.780545   \n",
       "1     0  56.527558  72.266609 -61.935252  39.135978  82.538530 -49.596509   \n",
       "2     0  55.849928  72.469064 -62.562788  37.988804  82.631347 -50.606259   \n",
       "3     0  55.329647  71.707275 -63.688956  36.561863  81.868749 -52.752784   \n",
       "4     0  55.142401  71.435607 -64.177303  36.175818  81.556874 -53.475747   \n",
       "\n",
       "          X2         Y2         Z2         X3         Y3         Z3  \\\n",
       "0  36.621229  81.680557 -52.919272  85.232264  67.749219 -73.684130   \n",
       "1  79.223743  43.254091 -69.982489  87.450873  68.400808 -70.703991   \n",
       "2  78.451526  43.567403 -70.658489  86.835388  68.907925 -71.138344   \n",
       "3  86.320630  68.214645 -72.228461  61.596157  11.250648 -68.956425   \n",
       "4  76.986143  42.426849 -72.574743  86.368748  67.901260 -72.444650   \n",
       "\n",
       "          X4         Y4         Z4  Class  \n",
       "0  59.188576  10.678936 -71.297781      1  \n",
       "1  61.587452  11.779919 -68.827418      1  \n",
       "2  61.686427  11.793440 -68.889316      1  \n",
       "3  77.387225  42.717833 -72.015146      1  \n",
       "4  61.275402  10.841109 -69.279906      1  "
      ]
     },
     "execution_count": 3,
     "metadata": {},
     "output_type": "execute_result"
    }
   ],
   "source": [
    "final_data.head(5)"
   ]
  },
  {
   "cell_type": "markdown",
   "metadata": {},
   "source": [
    "## Scaling of data"
   ]
  },
  {
   "cell_type": "code",
   "execution_count": 4,
   "metadata": {},
   "outputs": [],
   "source": [
    "from sklearn.model_selection import train_test_split\n",
    "from sklearn.preprocessing import StandardScaler\n",
    "\n",
    "def getScaledX(X):\n",
    "    X_scaled = np.zeros(X.shape)\n",
    "    scaler = None\n",
    "    \n",
    "   \n",
    "    scaler = StandardScaler().fit(X)\n",
    "    X_scaled = scaler.transform(X)\n",
    "   \n",
    "    \n",
    "    return X_scaled,scaler"
   ]
  },
  {
   "cell_type": "markdown",
   "metadata": {},
   "source": [
    "## Splitting Data"
   ]
  },
  {
   "cell_type": "code",
   "execution_count": 5,
   "metadata": {},
   "outputs": [],
   "source": [
    "user_groups = pd.DataFrame(final_data)"
   ]
  },
  {
   "cell_type": "markdown",
   "metadata": {},
   "source": [
    "The following user groups `0`,`1`,`2`,`8`,`10`,`11` and `13` will be used in the training data."
   ]
  },
  {
   "cell_type": "code",
   "execution_count": 6,
   "metadata": {},
   "outputs": [],
   "source": [
    "user_groups0 = user_groups[final_data.User == 0]\n",
    "user_groups1 = user_groups[final_data.User == 1]\n",
    "user_groups2 = user_groups[final_data.User == 2]\n",
    "user_groups8 = user_groups[final_data.User == 8]\n",
    "user_groups10 = user_groups[final_data.User == 10]\n",
    "user_groups11 = user_groups[final_data.User == 11]\n",
    "user_groups13 = user_groups[final_data.User == 13]\n",
    "\n",
    "train = [user_groups0,user_groups1,user_groups2,user_groups8,user_groups10,user_groups11,user_groups13]"
   ]
  },
  {
   "cell_type": "markdown",
   "metadata": {},
   "source": [
    " The following user groups `4`,`5` and `6` will be used in the cross validation data."
   ]
  },
  {
   "cell_type": "code",
   "execution_count": 7,
   "metadata": {},
   "outputs": [],
   "source": [
    "user_groups4 = user_groups[final_data.User == 4]\n",
    "user_groups5 = user_groups[final_data.User == 5]\n",
    "user_groups6 = user_groups[final_data.User == 6]\n",
    "\n",
    "cv = [user_groups4,user_groups5,user_groups6]"
   ]
  },
  {
   "cell_type": "markdown",
   "metadata": {},
   "source": [
    " The following user groups `7`,`9`, `12` and `14` will be used in the cross validation data."
   ]
  },
  {
   "cell_type": "code",
   "execution_count": 8,
   "metadata": {},
   "outputs": [],
   "source": [
    "user_groups7 = user_groups[final_data.User == 7]\n",
    "user_groups9 = user_groups[final_data.User == 9]\n",
    "user_groups12 = user_groups[final_data.User == 12]\n",
    "user_groups14 = user_groups[final_data.User == 14]\n",
    "\n",
    "test = [user_groups7,user_groups9,user_groups12,user_groups14]"
   ]
  },
  {
   "cell_type": "markdown",
   "metadata": {},
   "source": [
    "## Final Step "
   ]
  },
  {
   "cell_type": "code",
   "execution_count": 9,
   "metadata": {},
   "outputs": [],
   "source": [
    "result_train = pd.concat(train)\n",
    "\n",
    "Sliced_X= result_train.loc[:, 'X0':'Z4']\n",
    "X_scaled,scalerT = getScaledX(Sliced_X)\n",
    "result_train.loc[:, 'X0':'Z4'] = X_scaled\n",
    "\n",
    "result_cv = pd.concat(cv)\n",
    "\n",
    "Sliced_Xcv= result_cv.loc[:, 'X0':'Z4']\n",
    "Xcv_scaled,scalerT = getScaledX(Sliced_Xcv)\n",
    "result_cv.loc[:, 'X0':'Z4'] = Xcv_scaled\n",
    "\n",
    "result_test = pd.concat(test)\n",
    "\n",
    "Sliced_Xtest= result_test.loc[:, 'X0':'Z4']\n",
    "Xtest_scaled,scalerT = getScaledX(Sliced_Xtest)\n",
    "result_test.loc[:, 'X0':'Z4'] = Xtest_scaled"
   ]
  },
  {
   "cell_type": "code",
   "execution_count": 10,
   "metadata": {},
   "outputs": [],
   "source": [
    "training_set = pd.DataFrame(result_train)\n",
    "training_set.to_csv('train_data.csv')\n",
    "\n",
    "crossval_set = pd.DataFrame(result_cv) \n",
    "crossval_set.to_csv('cv_data.csv')\n",
    "\n",
    "testing_set = pd.DataFrame(result_test) \n",
    "testing_set.to_csv('test_data.csv')"
   ]
  }
 ],
 "metadata": {
  "kernelspec": {
   "display_name": "Python 3",
   "language": "python",
   "name": "python3"
  },
  "language_info": {
   "codemirror_mode": {
    "name": "ipython",
    "version": 3
   },
   "file_extension": ".py",
   "mimetype": "text/x-python",
   "name": "python",
   "nbconvert_exporter": "python",
   "pygments_lexer": "ipython3",
   "version": "3.7.6"
  }
 },
 "nbformat": 4,
 "nbformat_minor": 2
}
