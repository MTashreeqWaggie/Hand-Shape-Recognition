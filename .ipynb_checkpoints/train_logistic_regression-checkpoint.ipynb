{
 "cells": [
  {
   "cell_type": "markdown",
   "metadata": {},
   "source": [
    "# CSC311 Machine Learning Project 2019 - Group 14\n",
    "\n",
    "## This notebook performs the Logistic Regression optimized technique. \n",
    "\n",
    "The code below implements the training of the data using Logistic regression. \n",
    "The normalization used and the highest amount of accuracy achieved after training the data by changing the values the values of Logistic regression."
   ]
  },
  {
   "cell_type": "markdown",
   "metadata": {},
   "source": [
    "## Libraries\n",
    "\n",
    "The folowing code we will be talking about is the libraries that will be used to find aspects of `Phase 1B`"
   ]
  },
  {
   "cell_type": "code",
   "execution_count": 1,
   "metadata": {},
   "outputs": [],
   "source": [
    "import pandas as pd\n",
    "import numpy as np\n",
    "import pickle\n",
    "import matplotlib.pyplot as plt\n",
    "%matplotlib inline"
   ]
  },
  {
   "cell_type": "markdown",
   "metadata": {},
   "source": [
    "## Reading Files\n",
    "\n",
    "Read in the data files which we created in dividedata. We will read in the files of `group14_train` and `group14_cv`."
   ]
  },
  {
   "cell_type": "code",
   "execution_count": 2,
   "metadata": {},
   "outputs": [],
   "source": [
    "training_data = pd.read_csv(\"dividing data/train_data.csv\")\n",
    "crossval_data = pd.read_csv(\"dividing data/cv_data.csv\")"
   ]
  },
  {
   "cell_type": "markdown",
   "metadata": {},
   "source": [
    "## Removing values\n",
    "In the cell below we use the pop function to remove the columns such as `Unnamed` and `User` from the the `training data ` and our `cross validation ` data. We remove these columns because they are not important to the testing of our models."
   ]
  },
  {
   "cell_type": "code",
   "execution_count": 3,
   "metadata": {
    "scrolled": true
   },
   "outputs": [
    {
     "data": {
      "text/html": [
       "<div>\n",
       "<style scoped>\n",
       "    .dataframe tbody tr th:only-of-type {\n",
       "        vertical-align: middle;\n",
       "    }\n",
       "\n",
       "    .dataframe tbody tr th {\n",
       "        vertical-align: top;\n",
       "    }\n",
       "\n",
       "    .dataframe thead th {\n",
       "        text-align: right;\n",
       "    }\n",
       "</style>\n",
       "<table border=\"1\" class=\"dataframe\">\n",
       "  <thead>\n",
       "    <tr style=\"text-align: right;\">\n",
       "      <th></th>\n",
       "      <th>X0</th>\n",
       "      <th>Y0</th>\n",
       "      <th>Z0</th>\n",
       "      <th>X1</th>\n",
       "      <th>Y1</th>\n",
       "      <th>Z1</th>\n",
       "      <th>X2</th>\n",
       "      <th>Y2</th>\n",
       "      <th>Z2</th>\n",
       "      <th>X3</th>\n",
       "      <th>Y3</th>\n",
       "      <th>Z3</th>\n",
       "      <th>X4</th>\n",
       "      <th>Y4</th>\n",
       "      <th>Z4</th>\n",
       "      <th>Class</th>\n",
       "    </tr>\n",
       "  </thead>\n",
       "  <tbody>\n",
       "    <tr>\n",
       "      <th>0</th>\n",
       "      <td>0.094568</td>\n",
       "      <td>-0.292415</td>\n",
       "      <td>-0.829242</td>\n",
       "      <td>0.808311</td>\n",
       "      <td>-0.999832</td>\n",
       "      <td>-1.061223</td>\n",
       "      <td>-0.428011</td>\n",
       "      <td>-0.005781</td>\n",
       "      <td>-0.479768</td>\n",
       "      <td>1.029530</td>\n",
       "      <td>-0.290812</td>\n",
       "      <td>-1.032775</td>\n",
       "      <td>0.222251</td>\n",
       "      <td>-1.573760</td>\n",
       "      <td>-0.951098</td>\n",
       "      <td>1</td>\n",
       "    </tr>\n",
       "    <tr>\n",
       "      <th>1</th>\n",
       "      <td>0.164180</td>\n",
       "      <td>-0.273078</td>\n",
       "      <td>-0.747491</td>\n",
       "      <td>-0.365735</td>\n",
       "      <td>-0.031963</td>\n",
       "      <td>-0.398817</td>\n",
       "      <td>0.866498</td>\n",
       "      <td>-0.920805</td>\n",
       "      <td>-0.963154</td>\n",
       "      <td>1.096778</td>\n",
       "      <td>-0.275489</td>\n",
       "      <td>-0.950012</td>\n",
       "      <td>0.294329</td>\n",
       "      <td>-1.548137</td>\n",
       "      <td>-0.883220</td>\n",
       "      <td>1</td>\n",
       "    </tr>\n",
       "    <tr>\n",
       "      <th>2</th>\n",
       "      <td>0.143341</td>\n",
       "      <td>-0.268184</td>\n",
       "      <td>-0.765351</td>\n",
       "      <td>-0.401403</td>\n",
       "      <td>-0.029721</td>\n",
       "      <td>-0.427667</td>\n",
       "      <td>0.843033</td>\n",
       "      <td>-0.913344</td>\n",
       "      <td>-0.982305</td>\n",
       "      <td>1.078122</td>\n",
       "      <td>-0.263563</td>\n",
       "      <td>-0.962075</td>\n",
       "      <td>0.297303</td>\n",
       "      <td>-1.547822</td>\n",
       "      <td>-0.884921</td>\n",
       "      <td>1</td>\n",
       "    </tr>\n",
       "  </tbody>\n",
       "</table>\n",
       "</div>"
      ],
      "text/plain": [
       "         X0        Y0        Z0        X1        Y1        Z1        X2  \\\n",
       "0  0.094568 -0.292415 -0.829242  0.808311 -0.999832 -1.061223 -0.428011   \n",
       "1  0.164180 -0.273078 -0.747491 -0.365735 -0.031963 -0.398817  0.866498   \n",
       "2  0.143341 -0.268184 -0.765351 -0.401403 -0.029721 -0.427667  0.843033   \n",
       "\n",
       "         Y2        Z2        X3        Y3        Z3        X4        Y4  \\\n",
       "0 -0.005781 -0.479768  1.029530 -0.290812 -1.032775  0.222251 -1.573760   \n",
       "1 -0.920805 -0.963154  1.096778 -0.275489 -0.950012  0.294329 -1.548137   \n",
       "2 -0.913344 -0.982305  1.078122 -0.263563 -0.962075  0.297303 -1.547822   \n",
       "\n",
       "         Z4  Class  \n",
       "0 -0.951098      1  \n",
       "1 -0.883220      1  \n",
       "2 -0.884921      1  "
      ]
     },
     "execution_count": 3,
     "metadata": {},
     "output_type": "execute_result"
    }
   ],
   "source": [
    "training_data.pop('Unnamed: 0')\n",
    "training_data.pop('User')\n",
    "training_data.head(3)"
   ]
  },
  {
   "cell_type": "code",
   "execution_count": 4,
   "metadata": {
    "scrolled": true
   },
   "outputs": [
    {
     "data": {
      "text/html": [
       "<div>\n",
       "<style scoped>\n",
       "    .dataframe tbody tr th:only-of-type {\n",
       "        vertical-align: middle;\n",
       "    }\n",
       "\n",
       "    .dataframe tbody tr th {\n",
       "        vertical-align: top;\n",
       "    }\n",
       "\n",
       "    .dataframe thead th {\n",
       "        text-align: right;\n",
       "    }\n",
       "</style>\n",
       "<table border=\"1\" class=\"dataframe\">\n",
       "  <thead>\n",
       "    <tr style=\"text-align: right;\">\n",
       "      <th></th>\n",
       "      <th>X0</th>\n",
       "      <th>Y0</th>\n",
       "      <th>Z0</th>\n",
       "      <th>X1</th>\n",
       "      <th>Y1</th>\n",
       "      <th>Z1</th>\n",
       "      <th>X2</th>\n",
       "      <th>Y2</th>\n",
       "      <th>Z2</th>\n",
       "      <th>X3</th>\n",
       "      <th>Y3</th>\n",
       "      <th>Z3</th>\n",
       "      <th>X4</th>\n",
       "      <th>Y4</th>\n",
       "      <th>Z4</th>\n",
       "      <th>Class</th>\n",
       "    </tr>\n",
       "  </thead>\n",
       "  <tbody>\n",
       "    <tr>\n",
       "      <th>0</th>\n",
       "      <td>-0.011697</td>\n",
       "      <td>-1.180810</td>\n",
       "      <td>-2.183332</td>\n",
       "      <td>-1.556744</td>\n",
       "      <td>-1.125719</td>\n",
       "      <td>-1.848526</td>\n",
       "      <td>-0.829392</td>\n",
       "      <td>-0.905204</td>\n",
       "      <td>-1.866450</td>\n",
       "      <td>-1.782878</td>\n",
       "      <td>-0.835387</td>\n",
       "      <td>-1.161360</td>\n",
       "      <td>-1.843616</td>\n",
       "      <td>-1.779319</td>\n",
       "      <td>-1.238216</td>\n",
       "      <td>1</td>\n",
       "    </tr>\n",
       "    <tr>\n",
       "      <th>1</th>\n",
       "      <td>0.104689</td>\n",
       "      <td>-1.109310</td>\n",
       "      <td>-2.081804</td>\n",
       "      <td>-0.800283</td>\n",
       "      <td>-0.935223</td>\n",
       "      <td>-1.959605</td>\n",
       "      <td>-1.309219</td>\n",
       "      <td>-0.937808</td>\n",
       "      <td>-1.625959</td>\n",
       "      <td>-1.696088</td>\n",
       "      <td>-0.755318</td>\n",
       "      <td>-1.118794</td>\n",
       "      <td>0.065550</td>\n",
       "      <td>-1.865397</td>\n",
       "      <td>-1.712987</td>\n",
       "      <td>1</td>\n",
       "    </tr>\n",
       "    <tr>\n",
       "      <th>2</th>\n",
       "      <td>-1.752188</td>\n",
       "      <td>-1.097561</td>\n",
       "      <td>-1.479767</td>\n",
       "      <td>0.405706</td>\n",
       "      <td>-1.029926</td>\n",
       "      <td>-1.567298</td>\n",
       "      <td>-0.983402</td>\n",
       "      <td>-0.980608</td>\n",
       "      <td>-1.576618</td>\n",
       "      <td>-0.295130</td>\n",
       "      <td>-0.795591</td>\n",
       "      <td>-1.540360</td>\n",
       "      <td>-1.712344</td>\n",
       "      <td>-1.597558</td>\n",
       "      <td>-1.312438</td>\n",
       "      <td>1</td>\n",
       "    </tr>\n",
       "  </tbody>\n",
       "</table>\n",
       "</div>"
      ],
      "text/plain": [
       "         X0        Y0        Z0        X1        Y1        Z1        X2  \\\n",
       "0 -0.011697 -1.180810 -2.183332 -1.556744 -1.125719 -1.848526 -0.829392   \n",
       "1  0.104689 -1.109310 -2.081804 -0.800283 -0.935223 -1.959605 -1.309219   \n",
       "2 -1.752188 -1.097561 -1.479767  0.405706 -1.029926 -1.567298 -0.983402   \n",
       "\n",
       "         Y2        Z2        X3        Y3        Z3        X4        Y4  \\\n",
       "0 -0.905204 -1.866450 -1.782878 -0.835387 -1.161360 -1.843616 -1.779319   \n",
       "1 -0.937808 -1.625959 -1.696088 -0.755318 -1.118794  0.065550 -1.865397   \n",
       "2 -0.980608 -1.576618 -0.295130 -0.795591 -1.540360 -1.712344 -1.597558   \n",
       "\n",
       "         Z4  Class  \n",
       "0 -1.238216      1  \n",
       "1 -1.712987      1  \n",
       "2 -1.312438      1  "
      ]
     },
     "execution_count": 4,
     "metadata": {},
     "output_type": "execute_result"
    }
   ],
   "source": [
    "crossval_data.pop('Unnamed: 0')\n",
    "crossval_data.pop('User')\n",
    "crossval_data.head(3)"
   ]
  },
  {
   "cell_type": "markdown",
   "metadata": {},
   "source": [
    "## Declaring variables\n",
    "Below we take the data from training_data and crossval_data and split it up into corresponding variables. With the training data, we take all the columns except the last column \"Label\" and store it into the variable \"X_train\" and only the last column into the variable \"y_train\". We do the exact same with the cross validation data, storing all the columns except the last into the variable \"X_test\" and the last column into the variable \"y_test\"."
   ]
  },
  {
   "cell_type": "code",
   "execution_count": 5,
   "metadata": {},
   "outputs": [],
   "source": [
    "X_train = training_data.drop('Class', axis=1)\n",
    "y_train = training_data['Class']\n",
    "\n",
    "X_crossval = crossval_data.drop('Class', axis=1)\n",
    "y_crossval = crossval_data['Class']"
   ]
  },
  {
   "cell_type": "markdown",
   "metadata": {},
   "source": [
    "## Libraries\n",
    "\n",
    "The folowing code we will be talking about is the libraries that will be used to find aspects of `Phase 1B`\n",
    "\n",
    "`from sklearn.linear_model import LogisticRegression` - This library is imported to make use of the LogisticRegression() classifier\n",
    "\n",
    "`from sklearn import metrics`\n",
    "\n",
    "`from sklearn.metrics import accuracy_score` - This library is to make use of the classifier accuracy_score() to obtain overall accuracy\n",
    "\n"
   ]
  },
  {
   "cell_type": "code",
   "execution_count": 6,
   "metadata": {},
   "outputs": [],
   "source": [
    "from sklearn.linear_model import LogisticRegression\n",
    "from sklearn import metrics\n",
    "from sklearn.metrics import accuracy_score\n",
    "from sklearn.metrics import accuracy_score\n",
    "from sklearn import metrics\n",
    "from sklearn.metrics import classification_report, confusion_matrix"
   ]
  },
  {
   "cell_type": "markdown",
   "metadata": {},
   "source": [
    "## Model building \n",
    "Fitting, prediction and accuracy of the model.\n",
    "In the cells below, i play around with the logistic regression trying to find the best model"
   ]
  },
  {
   "cell_type": "code",
   "execution_count": 7,
   "metadata": {},
   "outputs": [
    {
     "data": {
      "text/plain": [
       "LogisticRegression(C=0.5, class_weight=None, dual=False, fit_intercept=True,\n",
       "                   intercept_scaling=1, l1_ratio=None, max_iter=100,\n",
       "                   multi_class='auto', n_jobs=None, penalty='l2',\n",
       "                   random_state=1, solver='sag', tol=0.0001, verbose=0,\n",
       "                   warm_start=False)"
      ]
     },
     "execution_count": 7,
     "metadata": {},
     "output_type": "execute_result"
    }
   ],
   "source": [
    "logReg=LogisticRegression(C= 0.5, solver = 'sag', max_iter=100,random_state= 1)\n",
    "logReg.fit(X_train, y_train)"
   ]
  },
  {
   "cell_type": "markdown",
   "metadata": {},
   "source": [
    "## Printing the Training score\n",
    "\n",
    "This is to print out the training score we have obtained for our training set. This is to check at the correctness for our model hypothesis.  "
   ]
  },
  {
   "cell_type": "code",
   "execution_count": 8,
   "metadata": {},
   "outputs": [
    {
     "name": "stdout",
     "output_type": "stream",
     "text": [
      "0.6489868770663043\n"
     ]
    }
   ],
   "source": [
    "print(logReg.score(X_train, y_train))"
   ]
  },
  {
   "cell_type": "code",
   "execution_count": 9,
   "metadata": {},
   "outputs": [
    {
     "name": "stdout",
     "output_type": "stream",
     "text": [
      "0.49846657125332244\n"
     ]
    }
   ],
   "source": [
    "y_pred = logReg.predict(X_crossval)\n",
    "\n",
    "print(metrics.accuracy_score(y_crossval, y_pred))"
   ]
  },
  {
   "cell_type": "markdown",
   "metadata": {},
   "source": [
    "# Model \n",
    "The following will be making use of the pickle library and function save the  Logistic Regression"
   ]
  },
  {
   "cell_type": "code",
   "execution_count": 10,
   "metadata": {},
   "outputs": [
    {
     "name": "stdout",
     "output_type": "stream",
     "text": [
      "Stored 'logReg' (LogisticRegression)\n"
     ]
    }
   ],
   "source": [
    "%store  logReg"
   ]
  },
  {
   "cell_type": "code",
   "execution_count": null,
   "metadata": {},
   "outputs": [],
   "source": []
  }
 ],
 "metadata": {
  "kernelspec": {
   "display_name": "Python 3",
   "language": "python",
   "name": "python3"
  },
  "language_info": {
   "codemirror_mode": {
    "name": "ipython",
    "version": 3
   },
   "file_extension": ".py",
   "mimetype": "text/x-python",
   "name": "python",
   "nbconvert_exporter": "python",
   "pygments_lexer": "ipython3",
   "version": "3.7.6"
  }
 },
 "nbformat": 4,
 "nbformat_minor": 2
}
