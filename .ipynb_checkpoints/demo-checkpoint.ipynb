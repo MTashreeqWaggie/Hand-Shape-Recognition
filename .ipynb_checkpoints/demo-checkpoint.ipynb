{
 "cells": [
  {
   "cell_type": "markdown",
   "metadata": {},
   "source": [
    "# CSC311 Machine Learning Project 2019 - Group 14\n",
    "\n",
    "### This notebook takes the three optimized techniques \n",
    "\n",
    "    Artificial Neural Network\n",
    "    Logistic Regression\n",
    "    Support Vector Machine\n",
    "### To create a demo script   \n",
    "   "
   ]
  },
  {
   "cell_type": "markdown",
   "metadata": {},
   "source": [
    "## Libraries\n"
   ]
  },
  {
   "cell_type": "code",
   "execution_count": 36,
   "metadata": {},
   "outputs": [],
   "source": [
    "import pickle\n",
    "import pandas as pd \n",
    "import scipy as sp\n",
    "import numpy as np\n",
    "import ipywidgets as widgets\n",
    "from ipywidgets import Layout, Button, Box, FloatText, Textarea, Dropdown, Label, IntSlider\n",
    "\n",
    "from sklearn.svm import SVC\n",
    "from ipywidgets import interact, interactive, fixed, interact_manual\n",
    "from IPython.display import display"
   ]
  },
  {
   "cell_type": "markdown",
   "metadata": {},
   "source": [
    "# Reading Files\n",
    "\n",
    "Read in the data files which we created in dividedata. We will run the train data against the trained models we trained in `Phase 1B`"
   ]
  },
  {
   "cell_type": "code",
   "execution_count": 37,
   "metadata": {},
   "outputs": [],
   "source": [
    "train_data = pd.read_csv(\"dividing data/train_data.csv\")"
   ]
  },
  {
   "cell_type": "markdown",
   "metadata": {},
   "source": [
    "# Removing values\n",
    "In the cell below we use the pop function to remove the columns such as `Unnamed` and `User` from the X input in our data. We remove these columns because they are not important to the testing of our models."
   ]
  },
  {
   "cell_type": "code",
   "execution_count": 38,
   "metadata": {},
   "outputs": [
    {
     "name": "stdout",
     "output_type": "stream",
     "text": [
      "\n"
     ]
    }
   ],
   "source": [
    "train_data.pop('Unnamed: 0')\n",
    "train_data.pop('User')\n",
    "print(\"\")"
   ]
  },
  {
   "cell_type": "code",
   "execution_count": 39,
   "metadata": {},
   "outputs": [
    {
     "data": {
      "text/html": [
       "<div>\n",
       "<style scoped>\n",
       "    .dataframe tbody tr th:only-of-type {\n",
       "        vertical-align: middle;\n",
       "    }\n",
       "\n",
       "    .dataframe tbody tr th {\n",
       "        vertical-align: top;\n",
       "    }\n",
       "\n",
       "    .dataframe thead th {\n",
       "        text-align: right;\n",
       "    }\n",
       "</style>\n",
       "<table border=\"1\" class=\"dataframe\">\n",
       "  <thead>\n",
       "    <tr style=\"text-align: right;\">\n",
       "      <th></th>\n",
       "      <th>X0</th>\n",
       "      <th>Y0</th>\n",
       "      <th>Z0</th>\n",
       "      <th>X1</th>\n",
       "      <th>Y1</th>\n",
       "      <th>Z1</th>\n",
       "      <th>X2</th>\n",
       "      <th>Y2</th>\n",
       "      <th>Z2</th>\n",
       "      <th>X3</th>\n",
       "      <th>Y3</th>\n",
       "      <th>Z3</th>\n",
       "      <th>X4</th>\n",
       "      <th>Y4</th>\n",
       "      <th>Z4</th>\n",
       "      <th>Class</th>\n",
       "    </tr>\n",
       "  </thead>\n",
       "  <tbody>\n",
       "    <tr>\n",
       "      <th>0</th>\n",
       "      <td>0.094568</td>\n",
       "      <td>-0.292415</td>\n",
       "      <td>-0.829242</td>\n",
       "      <td>0.808311</td>\n",
       "      <td>-0.999832</td>\n",
       "      <td>-1.061223</td>\n",
       "      <td>-0.428011</td>\n",
       "      <td>-0.005781</td>\n",
       "      <td>-0.479768</td>\n",
       "      <td>1.029530</td>\n",
       "      <td>-0.290812</td>\n",
       "      <td>-1.032775</td>\n",
       "      <td>0.222251</td>\n",
       "      <td>-1.573760</td>\n",
       "      <td>-0.951098</td>\n",
       "      <td>1</td>\n",
       "    </tr>\n",
       "    <tr>\n",
       "      <th>1</th>\n",
       "      <td>0.164180</td>\n",
       "      <td>-0.273078</td>\n",
       "      <td>-0.747491</td>\n",
       "      <td>-0.365735</td>\n",
       "      <td>-0.031963</td>\n",
       "      <td>-0.398817</td>\n",
       "      <td>0.866498</td>\n",
       "      <td>-0.920805</td>\n",
       "      <td>-0.963154</td>\n",
       "      <td>1.096778</td>\n",
       "      <td>-0.275489</td>\n",
       "      <td>-0.950012</td>\n",
       "      <td>0.294329</td>\n",
       "      <td>-1.548137</td>\n",
       "      <td>-0.883220</td>\n",
       "      <td>1</td>\n",
       "    </tr>\n",
       "    <tr>\n",
       "      <th>2</th>\n",
       "      <td>0.143341</td>\n",
       "      <td>-0.268184</td>\n",
       "      <td>-0.765351</td>\n",
       "      <td>-0.401403</td>\n",
       "      <td>-0.029721</td>\n",
       "      <td>-0.427667</td>\n",
       "      <td>0.843033</td>\n",
       "      <td>-0.913344</td>\n",
       "      <td>-0.982305</td>\n",
       "      <td>1.078122</td>\n",
       "      <td>-0.263563</td>\n",
       "      <td>-0.962075</td>\n",
       "      <td>0.297303</td>\n",
       "      <td>-1.547822</td>\n",
       "      <td>-0.884921</td>\n",
       "      <td>1</td>\n",
       "    </tr>\n",
       "  </tbody>\n",
       "</table>\n",
       "</div>"
      ],
      "text/plain": [
       "         X0        Y0        Z0        X1        Y1        Z1        X2  \\\n",
       "0  0.094568 -0.292415 -0.829242  0.808311 -0.999832 -1.061223 -0.428011   \n",
       "1  0.164180 -0.273078 -0.747491 -0.365735 -0.031963 -0.398817  0.866498   \n",
       "2  0.143341 -0.268184 -0.765351 -0.401403 -0.029721 -0.427667  0.843033   \n",
       "\n",
       "         Y2        Z2        X3        Y3        Z3        X4        Y4  \\\n",
       "0 -0.005781 -0.479768  1.029530 -0.290812 -1.032775  0.222251 -1.573760   \n",
       "1 -0.920805 -0.963154  1.096778 -0.275489 -0.950012  0.294329 -1.548137   \n",
       "2 -0.913344 -0.982305  1.078122 -0.263563 -0.962075  0.297303 -1.547822   \n",
       "\n",
       "         Z4  Class  \n",
       "0 -0.951098      1  \n",
       "1 -0.883220      1  \n",
       "2 -0.884921      1  "
      ]
     },
     "execution_count": 39,
     "metadata": {},
     "output_type": "execute_result"
    }
   ],
   "source": [
    "train_data.head(3)"
   ]
  },
  {
   "cell_type": "markdown",
   "metadata": {},
   "source": [
    "## Reading Files"
   ]
  },
  {
   "cell_type": "code",
   "execution_count": 40,
   "metadata": {},
   "outputs": [],
   "source": [
    "def choose_file(type_of_file):\n",
    "    if type_of_file == 0:\n",
    "        file = pd.read_csv(\"hand demo files/Hand_Shape_File_1.csv\")\n",
    "        print(\"You have chosen hand file 1.\")\n",
    "        file.pop('Unnamed: 0')\n",
    "\n",
    "        \n",
    "        return file\n",
    "    \n",
    "    elif type_of_file == 1:\n",
    "        file = pd.read_csv(\"hand demo files/Hand_Shape_File_2.csv\")\n",
    "        print(\"You have chosen hand file 2.\")\n",
    "        file.pop('Unnamed: 0')\n",
    "\n",
    "        return file\n",
    "    \n",
    "        \n",
    "    elif type_of_file == 2:\n",
    "        file = pd.read_csv(\"hand demo files/Hand_Shape_File_3.csv\")\n",
    "        print(\"You have chosen hand file 3.\")\n",
    "        file.pop('Unnamed: 0')\n",
    "\n",
    "        return file   \n",
    "    \n",
    "    elif type_of_file == 3:\n",
    "        file = pd.read_csv(\"hand demo files/Hand_Shape_File_4.csv\")\n",
    "        print(\"You have chosen hand file 4.\")\n",
    "        file.pop('Unnamed: 0')\n",
    "\n",
    "        return file\n",
    "       \n",
    "    elif type_of_file == 4:\n",
    "        file = pd.read_csv(\"hand demo files/Hand_Shape_File_5.csv\")\n",
    "        print(\"You have chosen hand file 5.\")\n",
    "        file.pop('Unnamed: 0')\n",
    "\n",
    "        return file    "
   ]
  },
  {
   "cell_type": "markdown",
   "metadata": {},
   "source": [
    "# Predicting Using Support Vector Machines Model\n",
    "\n",
    "In the following segment we create a function called `Predict_svm` with the parameter `file`. In this function we will declare the variables X_train for the X input of the train data set, and y_train as the y vector for the multi_class which stores the hand gestures. The declared variables `X_test` is used as the X input to predict the class/hand gesture of those coordinates and `y_test` which the y vector is dropped because its not useful to the model. We proceed to using the SVC classifier to model with the parameters `kernel='rbf', C = 0.5, gamma = 0.03125,probability = True`. Using this model and if and elif's we will determine whether the coordinates belong to a class"
   ]
  },
  {
   "cell_type": "code",
   "execution_count": 25,
   "metadata": {},
   "outputs": [],
   "source": [
    "def Predict_svm(file):\n",
    "  \n",
    "    X_train = train_data.drop('Class', axis=1) \n",
    "    y_train = train_data['Class']\n",
    "    X_test = file.drop('15', axis=1) \n",
    "    y_test = file['15']\n",
    "    from sklearn import preprocessing\n",
    "    \n",
    "    svclassifier = SVC(kernel='rbf', C = 0.5, gamma = 0.03125,probability = True)  \n",
    "    svclassifier.fit(X_train, y_train) \n",
    "    y_pred = svclassifier.predict(X_test)\n",
    "    y_pred = list(map(float, y_pred))\n",
    "\n",
    "    if y_pred[0] == 1:\n",
    "        return(\"Value of \"+str(y_pred[0])+\" The hand file is predicted to be Fist (with thumb out) posture.\")\n",
    "    elif y_pred[0] == 2:\n",
    "        return(\"Value of \"+str(y_pred[0])+\" The hand file is predicted to be Stop (Hand flat) posture.\")\n",
    "    elif y_pred[0] == 3:\n",
    "        return(\"Value of \"+str(y_pred[0])+\" The hand file is predicted to be Fist with index finger out posture.\")\n",
    "    elif y_pred[0] == 4:\n",
    "        return(\"Value of \"+str(y_pred[0])+\" The hand file is predicted to be First with index and middle fingers out posture.\")\n",
    "    else:\n",
    "        return(\"Value of \"+str(y_pred[0])+\" The hand file is predicted to be Grab posture.\")"
   ]
  },
  {
   "cell_type": "markdown",
   "metadata": {},
   "source": [
    "# Choosing File\n",
    "\n",
    "Using the tkinter widgets we can create a drop down to allow the user to choose among the fives and select on which to predict."
   ]
  },
  {
   "cell_type": "code",
   "execution_count": 26,
   "metadata": {},
   "outputs": [
    {
     "name": "stdout",
     "output_type": "stream",
     "text": [
      "Please Choose the hand file you want to predict on:\n",
      "\n"
     ]
    },
    {
     "data": {
      "application/vnd.jupyter.widget-view+json": {
       "model_id": "dad30673fe64485f9b2d8d9a67aad71d",
       "version_major": 2,
       "version_minor": 0
      },
      "text/plain": [
       "interactive(children=(Dropdown(description='type_of_file', options=(('', 5), ('Hand File 5', 4), ('Hand File 4…"
      ]
     },
     "metadata": {},
     "output_type": "display_data"
    }
   ],
   "source": [
    "print(\"Please Choose the hand file you want to predict on:\\n\")\n",
    "user_input = interactive(choose_file,type_of_file=[('',5),('Hand File 5',4),('Hand File 4',3),('Hand File 3',2),('Hand File 2',1),('Hand File 1',0)])\n",
    "display(user_input)"
   ]
  },
  {
   "cell_type": "markdown",
   "metadata": {},
   "source": [
    "# User Input"
   ]
  },
  {
   "cell_type": "code",
   "execution_count": 24,
   "metadata": {},
   "outputs": [
    {
     "data": {
      "application/vnd.jupyter.widget-view+json": {
       "model_id": "01b042063ad44a869678a648d34e44bd",
       "version_major": 2,
       "version_minor": 0
      },
      "text/plain": [
       "Button(description='Predict using Support Vector Machine', style=ButtonStyle())"
      ]
     },
     "metadata": {},
     "output_type": "display_data"
    },
    {
     "name": "stdout",
     "output_type": "stream",
     "text": [
      "With the value of 4.0 The data file is predicted to be of a Point 2 (First with index and middle fingers out\n"
     ]
    }
   ],
   "source": [
    "file=user_input.result\n",
    "from IPython.display import display\n",
    "button = widgets.Button(description=\"Predict using Support Vector Machine\",button_color='r')\n",
    "\n",
    "display(button)\n",
    "\n",
    "def on_button_clicked(pop):\n",
    "    print(Predict_svm(file))\n",
    "\n",
    "button.on_click(on_button_clicked)"
   ]
  },
  {
   "cell_type": "markdown",
   "metadata": {},
   "source": [
    "# Libraries\n",
    "\n",
    "`from sklearn.neural_network import MLPClassifier`-"
   ]
  },
  {
   "cell_type": "code",
   "execution_count": 27,
   "metadata": {},
   "outputs": [],
   "source": [
    "from sklearn.neural_network import MLPClassifier"
   ]
  },
  {
   "cell_type": "markdown",
   "metadata": {},
   "source": [
    "# Neural Network \n",
    "\n",
    "In the following segment we create a function called `Predict_nn` with the parameter `file`. In this function we will declare the variables X_train for the X input of the train data set, and y_train as the y vector for the multi_class which stores the hand gestures. The declared variables `X_test` is used as the X input to predict the class/hand gesture of those coordinates and `y_test` which the y vector is dropped because its not useful to the model. We proceed to using the SVC classifier to model with the parameters `solver='lbfgs', alpha=1e-5, hidden_layer_sizes=(250),random_state=1`. Using this model and if and elif's we will determine whether the coordinates belong to a class."
   ]
  },
  {
   "cell_type": "code",
   "execution_count": 28,
   "metadata": {},
   "outputs": [],
   "source": [
    "def Predict_nn(file):\n",
    "  \n",
    "    X_train = train_data.drop('Class', axis=1) \n",
    "    y_train = train_data['Class']\n",
    "    X_test = file.drop('15', axis=1) \n",
    "    y_test = file['15']\n",
    "    from sklearn import preprocessing\n",
    "    \n",
    "    mlp = MLPClassifier(alpha=1e-5, hidden_layer_sizes=(250), random_state=1)\n",
    "    mlp.fit(X_train, y_train)\n",
    "    y_pred = mlp.predict(X_test)\n",
    "    y_pred = list(map(float, y_pred))\n",
    "\n",
    "    if y_pred[0] == 1:\n",
    "        return(\"Value of \"+str(y_pred[0])+\" The hand file is predicted to be Fist (with thumb out) posture.\")\n",
    "    elif y_pred[0] == 2:\n",
    "        return(\"Value of \"+str(y_pred[0])+\" The hand file is predicted to be Stop (Hand flat) posture.\")\n",
    "    elif y_pred[0] == 3:\n",
    "        return(\"Value of \"+str(y_pred[0])+\" The hand file is predicted to be Fist with index finger out posture.\")\n",
    "    elif y_pred[0] == 4:\n",
    "        return(\"Value of \"+str(y_pred[0])+\" The hand file is predicted to be First with index and middle fingers out posture.\")\n",
    "    else:\n",
    "        return(\"Value of \"+str(y_pred[0])+\" The hand file is predicted to be Grab posture.\")\n",
    "    "
   ]
  },
  {
   "cell_type": "markdown",
   "metadata": {},
   "source": [
    "# Choosing File\n",
    "\n",
    "Using the tkinter widgets we can create a drop down to allow the user to choose among the fives and select on which to predict."
   ]
  },
  {
   "cell_type": "code",
   "execution_count": 9,
   "metadata": {},
   "outputs": [
    {
     "name": "stdout",
     "output_type": "stream",
     "text": [
      "Please Choose Type of Data:\n",
      "\n"
     ]
    },
    {
     "data": {
      "application/vnd.jupyter.widget-view+json": {
       "model_id": "efe71ee497894fa494987da81b8bcd58",
       "version_major": 2,
       "version_minor": 0
      },
      "text/plain": [
       "interactive(children=(Dropdown(description='type_of_file', options=(('', 5), ('data 5', 4), ('data 4', 3), ('d…"
      ]
     },
     "metadata": {},
     "output_type": "display_data"
    }
   ],
   "source": [
    "print(\"Please Choose the hand file you want to predict on:\\n\")\n",
    "user_input = interactive(choose_file,type_of_file=[('',5),('Hand File 5',4),('Hand File 4',3),('Hand File 3',2),('Hand File 2',1),('Hand File 1',0)])\n",
    "display(user_input)"
   ]
  },
  {
   "cell_type": "markdown",
   "metadata": {},
   "source": [
    "# User Input"
   ]
  },
  {
   "cell_type": "code",
   "execution_count": 30,
   "metadata": {},
   "outputs": [
    {
     "data": {
      "application/vnd.jupyter.widget-view+json": {
       "model_id": "be63d894d8d24723a22362e9de1732d4",
       "version_major": 2,
       "version_minor": 0
      },
      "text/plain": [
       "Button(description='Predict using Neural Networks', style=ButtonStyle())"
      ]
     },
     "metadata": {},
     "output_type": "display_data"
    },
    {
     "name": "stdout",
     "output_type": "stream",
     "text": [
      "With the value of 3.0 The data file is predicted to be of class 3\n"
     ]
    }
   ],
   "source": [
    "file=user_input.result\n",
    "from IPython.display import display\n",
    "button = widgets.Button(description=\"Predict using Neural Networks\",button_color='r')\n",
    "\n",
    "display(button)\n",
    "\n",
    "def on_button_clicked(pop):\n",
    "    print(Predict_nn(file))\n",
    "\n",
    "button.on_click(on_button_clicked)"
   ]
  },
  {
   "cell_type": "markdown",
   "metadata": {},
   "source": [
    "# Libraries\n",
    "\n",
    "`from sklearn.linear_model import LogisticRegression`-"
   ]
  },
  {
   "cell_type": "code",
   "execution_count": 31,
   "metadata": {},
   "outputs": [],
   "source": [
    "from sklearn.linear_model import LogisticRegression"
   ]
  },
  {
   "cell_type": "markdown",
   "metadata": {},
   "source": [
    "# Logistic Regression\n",
    "\n",
    "In the following segment we create a function called `Predict_log` with the parameter `file`. In this function we will declare the variables X_train for the X input of the train data set, and y_train as the y vector for the multi_class which stores the hand gestures. The declared variables `X_test` is used as the X input to predict the class/hand gesture of those coordinates and `y_test` which the y vector is dropped because its not useful to the model. We proceed to using the LogisticRegression to model with the parameters `solver='lbfgs', alpha=1e-5, hidden_layer_sizes=(250),random_state=1`. Using this model and if and elif's we will determine whether the coordinates belong to a class."
   ]
  },
  {
   "cell_type": "code",
   "execution_count": 32,
   "metadata": {},
   "outputs": [],
   "source": [
    "def Predict_log(file):\n",
    " \n",
    "    X_train = train_data.drop('Class', axis=1) \n",
    "    y_train = train_data['Class']\n",
    "    X_test = file.drop('15', axis=1) \n",
    "    y_test = file['15']\n",
    "    from sklearn import preprocessing\n",
    "    \n",
    "    logReg=LogisticRegression(C= 0.5, solver = 'sag', max_iter=100,random_state= 1)\n",
    "    logReg.fit(X_train, y_train)\n",
    "    \n",
    "    y_pred = logReg.predict(X_test)\n",
    "    y_pred = list(map(float, y_pred))\n",
    "\n",
    "    if y_pred[0] == 1:\n",
    "        return(\"Value of \"+str(y_pred[0])+\" The hand file is predicted to be Fist (with thumb out) posture.\")\n",
    "    elif y_pred[0] == 2:\n",
    "        return(\"Value of \"+str(y_pred[0])+\" The hand file is predicted to be Stop (Hand flat) posture.\")\n",
    "    elif y_pred[0] == 3:\n",
    "        return(\"Value of \"+str(y_pred[0])+\" The hand file is predicted to be Fist with index finger out posture.\")\n",
    "    elif y_pred[0] == 4:\n",
    "        return(\"Value of \"+str(y_pred[0])+\" The hand file is predicted to be First with index and middle fingers out posture.\")\n",
    "    else:\n",
    "        return(\"Value of \"+str(y_pred[0])+\" The hand file is predicted to be Grab posture.\")\n",
    "    "
   ]
  },
  {
   "cell_type": "markdown",
   "metadata": {},
   "source": [
    "# Choosing File\n",
    "\n",
    "Using the tkinter widgets we can create a drop down to allow the user to choose among the fives and select on which to predict."
   ]
  },
  {
   "cell_type": "code",
   "execution_count": 35,
   "metadata": {},
   "outputs": [
    {
     "name": "stdout",
     "output_type": "stream",
     "text": [
      "Please Choose the hand file you want to predict on:\n",
      "\n"
     ]
    },
    {
     "data": {
      "application/vnd.jupyter.widget-view+json": {
       "model_id": "c003d2636bbf4925b8ae02293325cda6",
       "version_major": 2,
       "version_minor": 0
      },
      "text/plain": [
       "interactive(children=(Dropdown(description='type_of_file', options=(('', 5), ('Hand File 5', 4), ('Hand File 4…"
      ]
     },
     "metadata": {},
     "output_type": "display_data"
    }
   ],
   "source": [
    "print(\"Please Choose the hand file you want to predict on:\\n\")\n",
    "user_input = interactive(choose_file,type_of_file=[('',5),('Hand File 5',4),('Hand File 4',3),('Hand File 3',2),('Hand File 2',1),('Hand File 1',0)])\n",
    "display(user_input)"
   ]
  },
  {
   "cell_type": "markdown",
   "metadata": {},
   "source": [
    "# User Input"
   ]
  },
  {
   "cell_type": "code",
   "execution_count": 34,
   "metadata": {},
   "outputs": [
    {
     "data": {
      "application/vnd.jupyter.widget-view+json": {
       "model_id": "1b0d045d590e40d2bea8ccc8a03408ad",
       "version_major": 2,
       "version_minor": 0
      },
      "text/plain": [
       "Button(description='Predict using Logistic Regression', style=ButtonStyle())"
      ]
     },
     "metadata": {},
     "output_type": "display_data"
    },
    {
     "name": "stdout",
     "output_type": "stream",
     "text": [
      "With the value of 5.0 The data file is predicted to be of class 5\n"
     ]
    }
   ],
   "source": [
    "file=user_input.result\n",
    "from IPython.display import display\n",
    "button = widgets.Button(description=\"Predict using Logistic Regression\",button_color='r')\n",
    "\n",
    "display(button)\n",
    "\n",
    "def on_button_clicked(pop):\n",
    "    print(Predict_log(file))\n",
    "\n",
    "button.on_click(on_button_clicked)"
   ]
  },
  {
   "cell_type": "code",
   "execution_count": null,
   "metadata": {},
   "outputs": [],
   "source": []
  }
 ],
 "metadata": {
  "kernelspec": {
   "display_name": "Python 3",
   "language": "python",
   "name": "python3"
  },
  "language_info": {
   "codemirror_mode": {
    "name": "ipython",
    "version": 3
   },
   "file_extension": ".py",
   "mimetype": "text/x-python",
   "name": "python",
   "nbconvert_exporter": "python",
   "pygments_lexer": "ipython3",
   "version": "3.7.6"
  }
 },
 "nbformat": 4,
 "nbformat_minor": 2
}
