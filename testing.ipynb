{
 "cells": [
  {
   "cell_type": "markdown",
   "metadata": {},
   "source": [
    "# CSC311 Machine Learning Project 2019 - Group 14\n",
    "\n",
    "    \n",
    "### This notebook takes the three optimized techniques \n",
    "\n",
    "    Artificial Neural Network\n",
    "    Logistic Regression\n",
    "    Support Vector Machine\n",
    "\n",
    "### And\n",
    "\n",
    "    uses the test set to gauge how well each technique has done\n",
    "    compares the techniques with eachother"
   ]
  },
  {
   "cell_type": "markdown",
   "metadata": {},
   "source": [
    "# Libraries"
   ]
  },
  {
   "cell_type": "markdown",
   "metadata": {},
   "source": [
    "The folowing code we will be talking about is the libraries that will be used to find aspects of `Phase 2A`\n"
   ]
  },
  {
   "cell_type": "code",
   "execution_count": 1,
   "metadata": {},
   "outputs": [],
   "source": [
    "import numpy as np\n",
    "import pandas as pd\n",
    "import pickle\n",
    "import matplotlib.pyplot as plt"
   ]
  },
  {
   "cell_type": "markdown",
   "metadata": {},
   "source": [
    "# Reading Files\n",
    "\n",
    "Read in the test data files which we created in dividedata. We will run the test data against the models we trained in `Phase 1B`"
   ]
  },
  {
   "cell_type": "code",
   "execution_count": 2,
   "metadata": {},
   "outputs": [],
   "source": [
    "testing_data = pd.read_csv(\"dividing data/test_data.csv\")"
   ]
  },
  {
   "cell_type": "markdown",
   "metadata": {},
   "source": [
    "# Removing values\n",
    "In the cell below we use the pop function to remove the columns such as `Unnamed` and `User` from the X input in our data. We remove these columns because they are not important to the testing of our models."
   ]
  },
  {
   "cell_type": "code",
   "execution_count": 3,
   "metadata": {},
   "outputs": [
    {
     "name": "stdout",
     "output_type": "stream",
     "text": [
      "\n"
     ]
    }
   ],
   "source": [
    "testing_data.pop('Unnamed: 0')\n",
    "testing_data.pop('User')\n",
    "print(\"\")"
   ]
  },
  {
   "cell_type": "code",
   "execution_count": 4,
   "metadata": {},
   "outputs": [
    {
     "data": {
      "text/html": [
       "<div>\n",
       "<style scoped>\n",
       "    .dataframe tbody tr th:only-of-type {\n",
       "        vertical-align: middle;\n",
       "    }\n",
       "\n",
       "    .dataframe tbody tr th {\n",
       "        vertical-align: top;\n",
       "    }\n",
       "\n",
       "    .dataframe thead th {\n",
       "        text-align: right;\n",
       "    }\n",
       "</style>\n",
       "<table border=\"1\" class=\"dataframe\">\n",
       "  <thead>\n",
       "    <tr style=\"text-align: right;\">\n",
       "      <th></th>\n",
       "      <th>X0</th>\n",
       "      <th>Y0</th>\n",
       "      <th>Z0</th>\n",
       "      <th>X1</th>\n",
       "      <th>Y1</th>\n",
       "      <th>Z1</th>\n",
       "      <th>X2</th>\n",
       "      <th>Y2</th>\n",
       "      <th>Z2</th>\n",
       "      <th>X3</th>\n",
       "      <th>Y3</th>\n",
       "      <th>Z3</th>\n",
       "      <th>X4</th>\n",
       "      <th>Y4</th>\n",
       "      <th>Z4</th>\n",
       "      <th>Class</th>\n",
       "    </tr>\n",
       "  </thead>\n",
       "  <tbody>\n",
       "    <tr>\n",
       "      <th>0</th>\n",
       "      <td>0.588121</td>\n",
       "      <td>-1.981951</td>\n",
       "      <td>-1.829615</td>\n",
       "      <td>0.629922</td>\n",
       "      <td>-2.764928</td>\n",
       "      <td>-1.392211</td>\n",
       "      <td>0.294858</td>\n",
       "      <td>-3.486081</td>\n",
       "      <td>-0.936200</td>\n",
       "      <td>-0.446803</td>\n",
       "      <td>-1.405766</td>\n",
       "      <td>-1.705179</td>\n",
       "      <td>-1.066397</td>\n",
       "      <td>-0.957445</td>\n",
       "      <td>-1.332448</td>\n",
       "      <td>1</td>\n",
       "    </tr>\n",
       "    <tr>\n",
       "      <th>1</th>\n",
       "      <td>0.522377</td>\n",
       "      <td>-2.635789</td>\n",
       "      <td>-1.397539</td>\n",
       "      <td>0.673448</td>\n",
       "      <td>-2.112314</td>\n",
       "      <td>-1.866619</td>\n",
       "      <td>0.299410</td>\n",
       "      <td>-3.497359</td>\n",
       "      <td>-0.920243</td>\n",
       "      <td>-0.468626</td>\n",
       "      <td>-1.434063</td>\n",
       "      <td>-1.753033</td>\n",
       "      <td>-1.069979</td>\n",
       "      <td>-0.974013</td>\n",
       "      <td>-1.347966</td>\n",
       "      <td>1</td>\n",
       "    </tr>\n",
       "    <tr>\n",
       "      <th>2</th>\n",
       "      <td>0.725188</td>\n",
       "      <td>-0.853043</td>\n",
       "      <td>-1.304965</td>\n",
       "      <td>0.804775</td>\n",
       "      <td>-1.702862</td>\n",
       "      <td>-1.355568</td>\n",
       "      <td>0.518867</td>\n",
       "      <td>-2.564007</td>\n",
       "      <td>-1.468196</td>\n",
       "      <td>-1.687714</td>\n",
       "      <td>-1.789718</td>\n",
       "      <td>-1.143147</td>\n",
       "      <td>-0.341492</td>\n",
       "      <td>-0.404725</td>\n",
       "      <td>-0.890098</td>\n",
       "      <td>1</td>\n",
       "    </tr>\n",
       "  </tbody>\n",
       "</table>\n",
       "</div>"
      ],
      "text/plain": [
       "         X0        Y0        Z0        X1        Y1        Z1        X2  \\\n",
       "0  0.588121 -1.981951 -1.829615  0.629922 -2.764928 -1.392211  0.294858   \n",
       "1  0.522377 -2.635789 -1.397539  0.673448 -2.112314 -1.866619  0.299410   \n",
       "2  0.725188 -0.853043 -1.304965  0.804775 -1.702862 -1.355568  0.518867   \n",
       "\n",
       "         Y2        Z2        X3        Y3        Z3        X4        Y4  \\\n",
       "0 -3.486081 -0.936200 -0.446803 -1.405766 -1.705179 -1.066397 -0.957445   \n",
       "1 -3.497359 -0.920243 -0.468626 -1.434063 -1.753033 -1.069979 -0.974013   \n",
       "2 -2.564007 -1.468196 -1.687714 -1.789718 -1.143147 -0.341492 -0.404725   \n",
       "\n",
       "         Z4  Class  \n",
       "0 -1.332448      1  \n",
       "1 -1.347966      1  \n",
       "2 -0.890098      1  "
      ]
     },
     "execution_count": 4,
     "metadata": {},
     "output_type": "execute_result"
    }
   ],
   "source": [
    "testing_data.head(3)"
   ]
  },
  {
   "cell_type": "markdown",
   "metadata": {},
   "source": [
    "# Declaring variables\n",
    "Below we take the data from `training_data` and `crossval_data` and split it up into corresponding variables. With the training data, we take all the columns except the last column `Class` and store it into the variable `X_test` and only the last column into the variable `y_test`."
   ]
  },
  {
   "cell_type": "code",
   "execution_count": 5,
   "metadata": {},
   "outputs": [],
   "source": [
    "X_test = testing_data.drop('Class', axis=1)\n",
    "y_test = testing_data['Class']"
   ]
  },
  {
   "cell_type": "markdown",
   "metadata": {},
   "source": [
    "# Libraries\n",
    "\n",
    "The folowing code we will be talking about is the libraries that will be used to find aspects of `Phase 2A`\n",
    "\n",
    "`from sklearn.linear_model import LogisticRegression` - This library is imported to make use of the LogisticRegression() classifier\n",
    "\n",
    "`from sklearn import metrics`\n",
    "\n",
    "`from sklearn.metrics import accuracy_score` - This library is to make use of the classifier accuracy_score() to obtain overall accuracy\n",
    "\n",
    "`from sklearn.metrics import classification_report,confusion_matrix` - This library is imported to make use of the classification_report() and confusion_matrix() classifier\n",
    "\n",
    "`import seaborn as sns` - Seaborn is a library for making statistical graphics such as the bar grah at the end of the test file for Per-class Accuracy"
   ]
  },
  {
   "cell_type": "code",
   "execution_count": 6,
   "metadata": {},
   "outputs": [],
   "source": [
    "from sklearn.linear_model import LogisticRegression\n",
    "from sklearn import metrics\n",
    "from sklearn.metrics import accuracy_score\n",
    "from sklearn.metrics import classification_report,confusion_matrix\n",
    "import seaborn as sns"
   ]
  },
  {
   "cell_type": "markdown",
   "metadata": {},
   "source": [
    "# Fecthing the Artifical Neural Network model\n",
    "\n",
    "Using the pickle library we were able to save our Neural Network model to a file `nn.sav`.We will be using the code below to import that Neural Network model to our testing file to run that model against the testing data, `group14_test.csv`. In the first line of code we fetch the the file in which the model is saved and then open the file and saved the model into a variable `nn_model` "
   ]
  },
  {
   "cell_type": "code",
   "execution_count": 7,
   "metadata": {},
   "outputs": [],
   "source": [
    "%store -r clfNN"
   ]
  },
  {
   "cell_type": "markdown",
   "metadata": {},
   "source": [
    "# Fecthing the Logistic Regression model\n",
    "Using the pickle library we were able to save our Logistic Regression model to a file `log.sav`. We will be using the code below to import that Logistic Regression model to our testing file to run that model against the testing data, `group14_test.csv`In the first line of code we fetch the the file in which the model is saved and then open the file and saved the model into a variable `logReg_model` . The logistic Regression model is `LogisticRegression(C= 1.2, solver = 'sag',max_iter=100 , random_state= 1)`. "
   ]
  },
  {
   "cell_type": "code",
   "execution_count": 8,
   "metadata": {},
   "outputs": [],
   "source": [
    "%store -r logReg"
   ]
  },
  {
   "cell_type": "markdown",
   "metadata": {},
   "source": [
    "# Fecthing the Support Vector Machines model\n",
    "Using the pickle library we were able to save our Support Vector Machines model to a file `svm.sav`.We will be using the code below to import that Support Vector Machines model to our testing file to run that model against the testing data, `group14_test.csv`In the first line of code we fetch the the file in which the model is saved and then open the file and saved the model into a variable `svm_model`. The Support Vector Machine model is `svclassifier = SVC(kernel='rbf', C = 0.5, gamma = 0.03125)`"
   ]
  },
  {
   "cell_type": "code",
   "execution_count": 9,
   "metadata": {},
   "outputs": [],
   "source": [
    "%store -r svclassifier"
   ]
  },
  {
   "cell_type": "markdown",
   "metadata": {},
   "source": [
    "# Overall Accuracy\n",
    "\n",
    "Next is the classification of `accuracy`. The following is the calculation or the evaluation of the overall number of  testing data samples that are correctly classified as a percentage of the total number of testing samples for `Artificial Neural Network`, `Logistic Regression` and `Support Vector Machines`. To obtain the accuracy we make use of the method `.score` providing a default evaluation criterion for the problem they are designed to solve. The parameteres for the `score` method is the declared X input values variable `X_test` and the y vector for the multi classes `y_test`. We create a variable that initializes the score method and its parameters and then print out that variable to obtain the accuracy we are in need of. \n",
    "\n",
    "## Artificial Neural Network"
   ]
  },
  {
   "cell_type": "code",
   "execution_count": 10,
   "metadata": {},
   "outputs": [
    {
     "name": "stdout",
     "output_type": "stream",
     "text": [
      "Artifical Neural Network model Accuracy: 69.7923222152297 %\n"
     ]
    }
   ],
   "source": [
    "test_nn = clfNN.score(X_test, y_test)*100\n",
    "\n",
    "print(\"Artifical Neural Network model Accuracy:\",test_nn,\"%\")"
   ]
  },
  {
   "cell_type": "markdown",
   "metadata": {},
   "source": [
    "## Logistic Regression"
   ]
  },
  {
   "cell_type": "code",
   "execution_count": 11,
   "metadata": {},
   "outputs": [
    {
     "name": "stdout",
     "output_type": "stream",
     "text": [
      "Logistic Regression model Accuracy: 55.5254877281309 %\n"
     ]
    }
   ],
   "source": [
    "test_log = logReg.score(X_test, y_test)*100\n",
    "print(\"Logistic Regression model Accuracy:\",test_log,\"%\")"
   ]
  },
  {
   "cell_type": "markdown",
   "metadata": {},
   "source": [
    "## Support Vector Machines"
   ]
  },
  {
   "cell_type": "code",
   "execution_count": 12,
   "metadata": {},
   "outputs": [
    {
     "name": "stdout",
     "output_type": "stream",
     "text": [
      "SVM model Accuracy: 67.77847702957835 %\n"
     ]
    }
   ],
   "source": [
    "test_svm = svclassifier.score(X_test, y_test)*100\n",
    "print(\"SVM model Accuracy:\",test_svm,\"%\")"
   ]
  },
  {
   "cell_type": "markdown",
   "metadata": {},
   "source": [
    "# Confusion Matrix\n",
    "\n",
    "Next we will create a confusion matrix that will determine which classes were confused with which other classes.  This will be done by creating a variable for prediction such as `y_nn` for  Neural Network, `y_pred` for Logistic Regression and `y_svm` for Support Vector Machines. Using the method `.confusion_matrix` with the parameters `y_true` which is the correct targeted values (the varaible `y_test` in this case is the `y vector`). The second parameter is the `y_pred` , the estimated targets as returned by a classifier. In the case of our method it will be  either `y_nn` , `y_pred` or `y_svm`. Then to normalize/scale our confusion matrix we will use the formula `variable = variable.astype('float') / variable.sum(axis=1)[:, np.newaxis]`, `variable` is the is a default name were the `confusion_matrix(y_true, y_pred)` is stored.Finally we print out the confusion matrix.\n",
    "\n",
    "## Artificial Neural Network"
   ]
  },
  {
   "cell_type": "code",
   "execution_count": 13,
   "metadata": {},
   "outputs": [
    {
     "name": "stdout",
     "output_type": "stream",
     "text": [
      "Confusion Matrics:\n",
      "\n"
     ]
    },
    {
     "data": {
      "image/png": "[encoded data removed]",
      "text/plain": [
       "<Figure size 648x648 with 2 Axes>"
      ]
     },
     "metadata": {
      "needs_background": "light"
     },
     "output_type": "display_data"
    }
   ],
   "source": [
    "y_nn = clfNN.predict(X_test)\n",
    "\n",
    "nn_matrix = metrics.confusion_matrix(y_test, y_nn)\n",
    "nn_matrix = nn_matrix.astype('float') / nn_matrix.sum(axis=1)[:, np.newaxis]\n",
    "\n",
    "#print(nn_matrix)\n",
    "\n",
    "print(\"Confusion Matrics:\\n\")\n",
    "plt.figure(figsize=(9,9))\n",
    "sns.heatmap(nn_matrix, annot=True, fmt=\".3f\", linewidths=.5, square = True, cmap = 'BuPu');\n",
    "plt.ylabel('Actual label');\n",
    "plt.xlabel('Predicted label');"
   ]
  },
  {
   "cell_type": "markdown",
   "metadata": {},
   "source": [
    "## Logistic Regression"
   ]
  },
  {
   "cell_type": "code",
   "execution_count": 14,
   "metadata": {},
   "outputs": [
    {
     "name": "stdout",
     "output_type": "stream",
     "text": [
      "Confusion Matrics:\n",
      "\n"
     ]
    },
    {
     "data": {
      "image/png": "[encoded data removed]",
      "text/plain": [
       "<Figure size 648x648 with 2 Axes>"
      ]
     },
     "metadata": {
      "needs_background": "light"
     },
     "output_type": "display_data"
    }
   ],
   "source": [
    "y_pred = logReg.predict(X_test)\n",
    "\n",
    "log_matrix = metrics.confusion_matrix(y_test, y_pred)\n",
    "log_matrix = log_matrix.astype('float') / log_matrix.sum(axis=1)[:, np.newaxis]\n",
    "\n",
    "print(\"Confusion Matrics:\\n\")\n",
    "plt.figure(figsize=(9,9))\n",
    "sns.heatmap(log_matrix, annot=True, fmt=\".3f\", linewidths=.5, square = True, cmap = 'YlGnBu');\n",
    "plt.ylabel('Actual label');\n",
    "plt.xlabel('Predicted label');\n"
   ]
  },
  {
   "cell_type": "markdown",
   "metadata": {},
   "source": [
    "## Support Vector Machines"
   ]
  },
  {
   "cell_type": "code",
   "execution_count": 15,
   "metadata": {},
   "outputs": [
    {
     "name": "stdout",
     "output_type": "stream",
     "text": [
      "Confusion Matrics:\n",
      "\n"
     ]
    },
    {
     "data": {
      "image/png": "[encoded data removed]",
      "text/plain": [
       "<Figure size 648x648 with 2 Axes>"
      ]
     },
     "metadata": {
      "needs_background": "light"
     },
     "output_type": "display_data"
    }
   ],
   "source": [
    "y_svm = svclassifier.predict(X_test)\n",
    "\n",
    "svm_matrix = metrics.confusion_matrix(y_test, y_svm)\n",
    "svm_matrix = svm_matrix.astype('float') / svm_matrix.sum(axis=1)[:, np.newaxis]\n",
    "\n",
    "#print(svm_matrix)\n",
    "\n",
    "print(\"Confusion Matrics:\\n\")\n",
    "plt.figure(figsize=(9,9))\n",
    "sns.heatmap(svm_matrix, annot=True, fmt=\".3f\", linewidths=.5, square = True, cmap = 'Blues_r');\n",
    "plt.ylabel('Actual label');\n",
    "plt.xlabel('Predicted label');\n"
   ]
  },
  {
   "cell_type": "markdown",
   "metadata": {},
   "source": [
    "# Testing Metrics\n",
    "\n",
    "Next we will determine the `precision`, `recall` and `F1-score` of the model and analyse what they mean respect to the accuracy. To obtain the testing metric we will make use of the method `.classification_report` , with the parameters `y_true` which are the correct target values(`y_true` in this case is `y_test` which is our test data samples y vector).\n",
    "The second parameter is the estimated targets returned by a classifier(in other word a variable for making predictions), in this case it will be `y_nn` for  Neural Network, `y_pred` for Logistic Regression and `y_svm` for Support Vector Machines.\n",
    "\n",
    "The `precision` is the ratio `tp / (tp + fp)` where `tp` is the number of `true positives` and `fp` the number of `false positives`. The `precision` is intuitively the ability of the classifier not to label as positive a sample that is negative.\n",
    "\n",
    "The `recall` is the `ratio tp / (tp + fn)` where `tp` is the number of `true positives` and `fn` the number of `false negatives`. The `recall` is intuitively the ability of the classifier to find all the positive samples.\n",
    "\n",
    "The `F-beta` score can be interpreted as a `weighted harmonic mean` of the `precision` and `recall`, where an `F-beta score` reaches its best value at `1` and worst score at `0`.\n",
    "\n",
    "The F-beta score weights recall more than precision by a factor of beta. beta == 1.0 means recall and precision are equally important.\n",
    "\n",
    "The `support` is the number of occurrences of each class in `y_true`(correct target values).\n",
    "\n",
    "The reported averages include `macro average` (averaging the unweighted mean per label), `weighted average` (averaging the support-weighted mean per label), `sample average` (only for multilabel classification) and `micro average` (averaging the total true positives, false negatives and false positives) it is only shown for multi-label or multi-class with a subset of classes because it is accuracy otherwise\n",
    "\n",
    "## Artificial Neural Network"
   ]
  },
  {
   "cell_type": "code",
   "execution_count": 49,
   "metadata": {},
   "outputs": [
    {
     "name": "stdout",
     "output_type": "stream",
     "text": [
      "              precision    recall  f1-score   support\n",
      "\n",
      "           1       0.93      0.79      0.86      2317\n",
      "           2       0.71      0.67      0.69      3773\n",
      "           3       0.69      0.75      0.72      3862\n",
      "           4       0.46      0.44      0.45      3124\n",
      "           5       0.80      0.89      0.84      2814\n",
      "\n",
      "    accuracy                           0.70     15890\n",
      "   macro avg       0.72      0.71      0.71     15890\n",
      "weighted avg       0.70      0.70      0.70     15890\n",
      "\n"
     ]
    }
   ],
   "source": [
    "print(classification_report(y_test, y_nn))  "
   ]
  },
  {
   "cell_type": "markdown",
   "metadata": {},
   "source": [
    "## Logistic Regression"
   ]
  },
  {
   "cell_type": "code",
   "execution_count": 12,
   "metadata": {},
   "outputs": [
    {
     "name": "stdout",
     "output_type": "stream",
     "text": [
      "              precision    recall  f1-score   support\n",
      "\n",
      "           1       0.65      0.98      0.78      2317\n",
      "           2       0.70      0.59      0.64      3773\n",
      "           3       0.51      0.37      0.43      3862\n",
      "           4       0.41      0.43      0.42      3124\n",
      "           5       0.50      0.56      0.53      2814\n",
      "\n",
      "    accuracy                           0.56     15890\n",
      "   macro avg       0.55      0.58      0.56     15890\n",
      "weighted avg       0.55      0.56      0.55     15890\n",
      "\n"
     ]
    }
   ],
   "source": [
    "print(classification_report(y_test, y_pred))  "
   ]
  },
  {
   "cell_type": "markdown",
   "metadata": {},
   "source": [
    "## Support Vector Machines"
   ]
  },
  {
   "cell_type": "code",
   "execution_count": 25,
   "metadata": {},
   "outputs": [
    {
     "name": "stdout",
     "output_type": "stream",
     "text": [
      "              precision    recall  f1-score   support\n",
      "\n",
      "           1       0.87      0.84      0.85      2317\n",
      "           2       0.68      0.59      0.63      3773\n",
      "           3       0.66      0.67      0.66      3862\n",
      "           4       0.48      0.51      0.49      3124\n",
      "           5       0.78      0.85      0.81      2814\n",
      "\n",
      "    accuracy                           0.68     15890\n",
      "   macro avg       0.69      0.69      0.69     15890\n",
      "weighted avg       0.68      0.68      0.68     15890\n",
      "\n"
     ]
    }
   ],
   "source": [
    "print(classification_report(y_test, y_svm))  "
   ]
  },
  {
   "cell_type": "markdown",
   "metadata": {},
   "source": [
    "# Per-Class Accuracy\n",
    "\n",
    "Next we have a multi-class problem.Now for each class we are classifying, we need to determine the number of samples of that class that were correctly recongnized as a percentage of the total number of testing data samples.Since we are working with 5 different classes we need to obtain the accuracy of each class which can easily be obtain from the confusion matrix. We just need to obtain the diagonal values of that specific confusion matrix. We just use the method `.diagonal`. We late created a for loop to print out the accuracy below one another\n",
    "\n",
    "## Artificial Neural Network"
   ]
  },
  {
   "cell_type": "code",
   "execution_count": 50,
   "metadata": {},
   "outputs": [
    {
     "name": "stdout",
     "output_type": "stream",
     "text": [
      "Per Class accuracy for each class using Neural Network\n",
      "\n",
      "Digit\t Per class accuracy:\n",
      "\n",
      "1  \t  0.7924\n",
      "2  \t  0.67214\n",
      "3  \t  0.75194\n",
      "4  \t  0.44302\n",
      "5  \t  0.88735\n"
     ]
    }
   ],
   "source": [
    "print(\"Per Class accuracy for each class using Neural Network\\n\\nDigit\\t Per class accuracy:\\n\")\n",
    "\n",
    "perClassAcc_nn= nn_matrix.diagonal()\n",
    "\n",
    "c = 1\n",
    "for i in perClassAcc_nn:\n",
    "    print(c,\" \\t \",round(i,5))\n",
    "    c+=1"
   ]
  },
  {
   "cell_type": "markdown",
   "metadata": {},
   "source": [
    "## Logistic Regression"
   ]
  },
  {
   "cell_type": "code",
   "execution_count": 12,
   "metadata": {},
   "outputs": [
    {
     "name": "stdout",
     "output_type": "stream",
     "text": [
      "Per Class accuracy for each Digit using Logistic Regression\n",
      "\n",
      "Digit\t Per class accuracy:\n",
      "\n",
      "1  \t  0.9741\n",
      "2  \t  0.6149\n",
      "3  \t  0.41869\n",
      "4  \t  0.40749\n",
      "5  \t  0.52345\n"
     ]
    }
   ],
   "source": [
    "print(\"Per Class accuracy for each Digit using Logistic Regression\\n\\nDigit\\t Per class accuracy:\\n\")\n",
    "\n",
    "perClassAcc_log= log_matrix.diagonal()\n",
    "\n",
    "c = 1\n",
    "for i in perClassAcc_log:\n",
    "    print(c,\" \\t \",round(i,5))\n",
    "    c+=1"
   ]
  },
  {
   "cell_type": "markdown",
   "metadata": {},
   "source": [
    "## Support Vector Machines"
   ]
  },
  {
   "cell_type": "code",
   "execution_count": 28,
   "metadata": {},
   "outputs": [
    {
     "name": "stdout",
     "output_type": "stream",
     "text": [
      "Per Class accuracy for each class using Support Vector Machines\n",
      "\n",
      "Digit\t Per class accuracy:\n",
      "\n",
      "1  \t  0.8442\n",
      "2  \t  0.59369\n",
      "3  \t  0.67374\n",
      "4  \t  0.50544\n",
      "5  \t  0.85039\n"
     ]
    }
   ],
   "source": [
    "print(\"Per Class accuracy for each class using Support Vector Machines\\n\\nDigit\\t Per class accuracy:\\n\")\n",
    "\n",
    "perClassAcc_svm= svm_matrix.diagonal()\n",
    "\n",
    "c = 1\n",
    "for i in perClassAcc_svm:\n",
    "    print(c,\" \\t \",round(i,5))\n",
    "    c+=1"
   ]
  },
  {
   "cell_type": "markdown",
   "metadata": {},
   "source": [
    "# Additional Relevant Analyses\n",
    "\n",
    "For the following section we will be making use of graphs to determine how well our model is generalized and attempt to determine where the source of errors may have occured/been. For this we use graphs, such and `bar graphs` or `pie graphs`.Using the confusion matrix and graphs can help determine tell if the data samples `look` similar.\n",
    "\n",
    "## Artificial Neural Network"
   ]
  },
  {
   "cell_type": "code",
   "execution_count": 52,
   "metadata": {},
   "outputs": [
    {
     "name": "stdout",
     "output_type": "stream",
     "text": [
      "              precision    recall  f1-score   support\n",
      "\n",
      "           1       0.93      0.79      0.86      2317\n",
      "           2       0.71      0.67      0.69      3773\n",
      "           3       0.69      0.75      0.72      3862\n",
      "           4       0.46      0.44      0.45      3124\n",
      "           5       0.80      0.89      0.84      2814\n",
      "\n",
      "    accuracy                           0.70     15890\n",
      "   macro avg       0.72      0.71      0.71     15890\n",
      "weighted avg       0.70      0.70      0.70     15890\n",
      "\n"
     ]
    },
    {
     "data": {
      "image/png": "[encoded data removed]",
      "text/plain": [
       "<Figure size 432x288 with 1 Axes>"
      ]
     },
     "metadata": {
      "needs_background": "light"
     },
     "output_type": "display_data"
    }
   ],
   "source": [
    "print(metrics.classification_report(y_test, y_nn))\n",
    "objects = ('0','1', '2', '3', '4')\n",
    "val = np.arange(len(objects))\n",
    "\n",
    "colors = ['gold', 'yellowgreen', 'lightcoral', 'lightskyblue','blue']\n",
    "\n",
    "plt.bar(val, perClassAcc_nn, color = colors)\n",
    "plt.xticks(val, objects)\n",
    "plt.xlabel('Class')\n",
    "plt.ylabel('Per Class Accuracy')\n",
    "plt.title('Per Class Accuracy')\n",
    " \n",
    "plt.show()"
   ]
  },
  {
   "cell_type": "markdown",
   "metadata": {},
   "source": [
    "## Logistic Regression"
   ]
  },
  {
   "cell_type": "code",
   "execution_count": 30,
   "metadata": {},
   "outputs": [
    {
     "name": "stdout",
     "output_type": "stream",
     "text": [
      "              precision    recall  f1-score   support\n",
      "\n",
      "           1       0.64      0.97      0.77      2317\n",
      "           2       0.66      0.61      0.64      3773\n",
      "           3       0.52      0.42      0.46      3862\n",
      "           4       0.44      0.41      0.42      3124\n",
      "           5       0.52      0.52      0.52      2814\n",
      "\n",
      "    accuracy                           0.56     15890\n",
      "   macro avg       0.56      0.59      0.56     15890\n",
      "weighted avg       0.56      0.56      0.55     15890\n",
      "\n"
     ]
    },
    {
     "data": {
      "image/png": "[encoded data removed]",
      "text/plain": [
       "<Figure size 432x288 with 1 Axes>"
      ]
     },
     "metadata": {
      "needs_background": "light"
     },
     "output_type": "display_data"
    }
   ],
   "source": [
    "print(metrics.classification_report(y_test, y_pred))\n",
    "objects = ('0','1', '2', '3', '4')\n",
    "val = np.arange(len(objects))\n",
    "\n",
    "colors = ['gold', 'yellowgreen', 'lightcoral', 'lightskyblue','blue']\n",
    "\n",
    "plt.bar(val, perClassAcc_log, color = colors)\n",
    "plt.xticks(val, objects)\n",
    "plt.xlabel('Class')\n",
    "plt.ylabel('Per Class Accuracy')\n",
    "plt.title('Per Class Accuracy')\n",
    " \n",
    "plt.show()"
   ]
  },
  {
   "cell_type": "markdown",
   "metadata": {},
   "source": [
    "## Support Vector Machines"
   ]
  },
  {
   "cell_type": "code",
   "execution_count": 31,
   "metadata": {},
   "outputs": [
    {
     "name": "stdout",
     "output_type": "stream",
     "text": [
      "              precision    recall  f1-score   support\n",
      "\n",
      "           1       0.87      0.84      0.85      2317\n",
      "           2       0.68      0.59      0.63      3773\n",
      "           3       0.66      0.67      0.66      3862\n",
      "           4       0.48      0.51      0.49      3124\n",
      "           5       0.78      0.85      0.81      2814\n",
      "\n",
      "    accuracy                           0.68     15890\n",
      "   macro avg       0.69      0.69      0.69     15890\n",
      "weighted avg       0.68      0.68      0.68     15890\n",
      "\n"
     ]
    },
    {
     "data": {
      "image/png": "[encoded data removed]",
      "text/plain": [
       "<Figure size 432x288 with 1 Axes>"
      ]
     },
     "metadata": {
      "needs_background": "light"
     },
     "output_type": "display_data"
    }
   ],
   "source": [
    "print(metrics.classification_report(y_test, y_svm))\n",
    "objects = ('0','1', '2', '3', '4')\n",
    "val = np.arange(len(objects))\n",
    "\n",
    "colors = ['gold', 'yellowgreen', 'lightcoral', 'lightskyblue','blue']\n",
    "\n",
    "plt.bar(val, perClassAcc_svm, color = colors)\n",
    "plt.xticks(val, objects)\n",
    "plt.xlabel('Class')\n",
    "plt.ylabel('Per Class Accuracy')\n",
    "plt.title('Per Class Accuracy')\n",
    " \n",
    "plt.show()"
   ]
  },
  {
   "cell_type": "markdown",
   "metadata": {},
   "source": [
    "# Statement\n",
    "\n",
    "From what we can tell from the bar graphs in terms of accuracy is that the Logistic Regression performed poorly in some of its classes and that its not the desired techinque that we would want whereas Neural Network and Support Vector Machins is what we are looking for because they did well in terms of accuracy per class and not they look similar in terms of accuracy across the board."
   ]
  },
  {
   "cell_type": "code",
   "execution_count": null,
   "metadata": {},
   "outputs": [],
   "source": []
  }
 ],
 "metadata": {
  "kernelspec": {
   "display_name": "Python 3",
   "language": "python",
   "name": "python3"
  },
  "language_info": {
   "codemirror_mode": {
    "name": "ipython",
    "version": 3
   },
   "file_extension": ".py",
   "mimetype": "text/x-python",
   "name": "python",
   "nbconvert_exporter": "python",
   "pygments_lexer": "ipython3",
   "version": "3.7.6"
  }
 },
 "nbformat": 4,
 "nbformat_minor": 2
}
